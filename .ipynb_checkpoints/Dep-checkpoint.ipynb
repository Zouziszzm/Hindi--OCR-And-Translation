{
 "cells": [
  {
   "cell_type": "code",
   "execution_count": null,
   "id": "81d35526-8480-48d8-950e-0f94005dbbaa",
   "metadata": {},
   "outputs": [],
   "source": [
    "!pip install torch torchvision torchaudio\n",
    "!pip install easyocr\n",
    "!pip install matplotlib\n",
    "!pip3 install torch torchvision torchaudio --index-url https://download.pytorch.org/whl/cu117\n",
    "!pip install transformers ipywidgets gradio --upgrade\n",
    "!pip install sentencepiece\n",
    "!pip install torch torchvision torchaudio\n",
    "!pip install easyocr"
   ]
  }
 ],
 "metadata": {
  "kernelspec": {
   "display_name": "Python 3 (ipykernel)",
   "language": "python",
   "name": "python3"
  },
  "language_info": {
   "codemirror_mode": {
    "name": "ipython",
    "version": 3
   },
   "file_extension": ".py",
   "mimetype": "text/x-python",
   "name": "python",
   "nbconvert_exporter": "python",
   "pygments_lexer": "ipython3",
   "version": "3.11.5"
  }
 },
 "nbformat": 4,
 "nbformat_minor": 5
}
