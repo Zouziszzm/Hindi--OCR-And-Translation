{
 "cells": [
  {
   "cell_type": "code",
   "execution_count": 4,
   "id": "f1499d16",
   "metadata": {},
   "outputs": [
    {
     "name": "stdout",
     "output_type": "stream",
     "text": [
      "Requirement already satisfied: torch in c:\\users\\uaepe\\appdata\\local\\programs\\python\\python311\\lib\\site-packages (2.0.1)\n",
      "Requirement already satisfied: torchvision in c:\\users\\uaepe\\appdata\\local\\programs\\python\\python311\\lib\\site-packages (0.15.2)\n",
      "Requirement already satisfied: torchaudio in c:\\users\\uaepe\\appdata\\local\\programs\\python\\python311\\lib\\site-packages (2.0.2)\n",
      "Requirement already satisfied: filelock in c:\\users\\uaepe\\appdata\\local\\programs\\python\\python311\\lib\\site-packages (from torch) (3.12.4)\n",
      "Requirement already satisfied: typing-extensions in c:\\users\\uaepe\\appdata\\local\\programs\\python\\python311\\lib\\site-packages (from torch) (4.8.0)\n",
      "Requirement already satisfied: sympy in c:\\users\\uaepe\\appdata\\local\\programs\\python\\python311\\lib\\site-packages (from torch) (1.12)\n",
      "Requirement already satisfied: networkx in c:\\users\\uaepe\\appdata\\local\\programs\\python\\python311\\lib\\site-packages (from torch) (3.1)\n",
      "Requirement already satisfied: jinja2 in c:\\users\\uaepe\\appdata\\local\\programs\\python\\python311\\lib\\site-packages (from torch) (3.1.2)\n",
      "Requirement already satisfied: numpy in c:\\users\\uaepe\\appdata\\local\\programs\\python\\python311\\lib\\site-packages (from torchvision) (1.26.0)\n",
      "Requirement already satisfied: requests in c:\\users\\uaepe\\appdata\\local\\programs\\python\\python311\\lib\\site-packages (from torchvision) (2.31.0)\n",
      "Requirement already satisfied: pillow!=8.3.*,>=5.3.0 in c:\\users\\uaepe\\appdata\\local\\programs\\python\\python311\\lib\\site-packages (from torchvision) (10.0.1)\n",
      "Requirement already satisfied: MarkupSafe>=2.0 in c:\\users\\uaepe\\appdata\\local\\programs\\python\\python311\\lib\\site-packages (from jinja2->torch) (2.1.3)\n",
      "Requirement already satisfied: charset-normalizer<4,>=2 in c:\\users\\uaepe\\appdata\\local\\programs\\python\\python311\\lib\\site-packages (from requests->torchvision) (3.3.0)\n",
      "Requirement already satisfied: idna<4,>=2.5 in c:\\users\\uaepe\\appdata\\local\\programs\\python\\python311\\lib\\site-packages (from requests->torchvision) (3.4)\n",
      "Requirement already satisfied: urllib3<3,>=1.21.1 in c:\\users\\uaepe\\appdata\\local\\programs\\python\\python311\\lib\\site-packages (from requests->torchvision) (2.0.5)\n",
      "Requirement already satisfied: certifi>=2017.4.17 in c:\\users\\uaepe\\appdata\\local\\programs\\python\\python311\\lib\\site-packages (from requests->torchvision) (2023.7.22)\n",
      "Requirement already satisfied: mpmath>=0.19 in c:\\users\\uaepe\\appdata\\local\\programs\\python\\python311\\lib\\site-packages (from sympy->torch) (1.3.0)\n",
      "Requirement already satisfied: easyocr in c:\\users\\uaepe\\appdata\\local\\programs\\python\\python311\\lib\\site-packages (1.7.1)\n",
      "Requirement already satisfied: torch in c:\\users\\uaepe\\appdata\\local\\programs\\python\\python311\\lib\\site-packages (from easyocr) (2.0.1)\n",
      "Requirement already satisfied: torchvision>=0.5 in c:\\users\\uaepe\\appdata\\local\\programs\\python\\python311\\lib\\site-packages (from easyocr) (0.15.2)\n",
      "Requirement already satisfied: opencv-python-headless in c:\\users\\uaepe\\appdata\\local\\programs\\python\\python311\\lib\\site-packages (from easyocr) (4.8.1.78)\n",
      "Requirement already satisfied: scipy in c:\\users\\uaepe\\appdata\\local\\programs\\python\\python311\\lib\\site-packages (from easyocr) (1.11.3)\n",
      "Requirement already satisfied: numpy in c:\\users\\uaepe\\appdata\\local\\programs\\python\\python311\\lib\\site-packages (from easyocr) (1.26.0)\n",
      "Requirement already satisfied: Pillow in c:\\users\\uaepe\\appdata\\local\\programs\\python\\python311\\lib\\site-packages (from easyocr) (10.0.1)\n",
      "Requirement already satisfied: scikit-image in c:\\users\\uaepe\\appdata\\local\\programs\\python\\python311\\lib\\site-packages (from easyocr) (0.21.0)\n",
      "Requirement already satisfied: python-bidi in c:\\users\\uaepe\\appdata\\local\\programs\\python\\python311\\lib\\site-packages (from easyocr) (0.4.2)\n",
      "Requirement already satisfied: PyYAML in c:\\users\\uaepe\\appdata\\local\\programs\\python\\python311\\lib\\site-packages (from easyocr) (6.0.1)\n",
      "Requirement already satisfied: Shapely in c:\\users\\uaepe\\appdata\\local\\programs\\python\\python311\\lib\\site-packages (from easyocr) (2.0.1)\n",
      "Requirement already satisfied: pyclipper in c:\\users\\uaepe\\appdata\\local\\programs\\python\\python311\\lib\\site-packages (from easyocr) (1.3.0.post5)\n",
      "Requirement already satisfied: ninja in c:\\users\\uaepe\\appdata\\local\\programs\\python\\python311\\lib\\site-packages (from easyocr) (1.11.1)\n",
      "Requirement already satisfied: requests in c:\\users\\uaepe\\appdata\\local\\programs\\python\\python311\\lib\\site-packages (from torchvision>=0.5->easyocr) (2.31.0)\n",
      "Requirement already satisfied: filelock in c:\\users\\uaepe\\appdata\\local\\programs\\python\\python311\\lib\\site-packages (from torch->easyocr) (3.12.4)\n",
      "Requirement already satisfied: typing-extensions in c:\\users\\uaepe\\appdata\\local\\programs\\python\\python311\\lib\\site-packages (from torch->easyocr) (4.8.0)\n",
      "Requirement already satisfied: sympy in c:\\users\\uaepe\\appdata\\local\\programs\\python\\python311\\lib\\site-packages (from torch->easyocr) (1.12)\n",
      "Requirement already satisfied: networkx in c:\\users\\uaepe\\appdata\\local\\programs\\python\\python311\\lib\\site-packages (from torch->easyocr) (3.1)\n",
      "Requirement already satisfied: jinja2 in c:\\users\\uaepe\\appdata\\local\\programs\\python\\python311\\lib\\site-packages (from torch->easyocr) (3.1.2)\n",
      "Requirement already satisfied: six in c:\\users\\uaepe\\appdata\\local\\programs\\python\\python311\\lib\\site-packages (from python-bidi->easyocr) (1.16.0)\n",
      "Requirement already satisfied: imageio>=2.27 in c:\\users\\uaepe\\appdata\\local\\programs\\python\\python311\\lib\\site-packages (from scikit-image->easyocr) (2.31.5)\n",
      "Requirement already satisfied: tifffile>=2022.8.12 in c:\\users\\uaepe\\appdata\\local\\programs\\python\\python311\\lib\\site-packages (from scikit-image->easyocr) (2023.9.26)\n",
      "Requirement already satisfied: PyWavelets>=1.1.1 in c:\\users\\uaepe\\appdata\\local\\programs\\python\\python311\\lib\\site-packages (from scikit-image->easyocr) (1.4.1)\n",
      "Requirement already satisfied: packaging>=21 in c:\\users\\uaepe\\appdata\\local\\programs\\python\\python311\\lib\\site-packages (from scikit-image->easyocr) (23.2)\n",
      "Requirement already satisfied: lazy_loader>=0.2 in c:\\users\\uaepe\\appdata\\local\\programs\\python\\python311\\lib\\site-packages (from scikit-image->easyocr) (0.3)\n",
      "Requirement already satisfied: MarkupSafe>=2.0 in c:\\users\\uaepe\\appdata\\local\\programs\\python\\python311\\lib\\site-packages (from jinja2->torch->easyocr) (2.1.3)\n",
      "Requirement already satisfied: charset-normalizer<4,>=2 in c:\\users\\uaepe\\appdata\\local\\programs\\python\\python311\\lib\\site-packages (from requests->torchvision>=0.5->easyocr) (3.3.0)\n",
      "Requirement already satisfied: idna<4,>=2.5 in c:\\users\\uaepe\\appdata\\local\\programs\\python\\python311\\lib\\site-packages (from requests->torchvision>=0.5->easyocr) (3.4)\n",
      "Requirement already satisfied: urllib3<3,>=1.21.1 in c:\\users\\uaepe\\appdata\\local\\programs\\python\\python311\\lib\\site-packages (from requests->torchvision>=0.5->easyocr) (2.0.5)\n",
      "Requirement already satisfied: certifi>=2017.4.17 in c:\\users\\uaepe\\appdata\\local\\programs\\python\\python311\\lib\\site-packages (from requests->torchvision>=0.5->easyocr) (2023.7.22)\n",
      "Requirement already satisfied: mpmath>=0.19 in c:\\users\\uaepe\\appdata\\local\\programs\\python\\python311\\lib\\site-packages (from sympy->torch->easyocr) (1.3.0)\n",
      "Collecting matplotlib\n",
      "  Obtaining dependency information for matplotlib from https://files.pythonhosted.org/packages/40/d9/c1784db9db0d484c8e5deeafbaac0d6ed66e165c6eb4a74fb43a5fa947d9/matplotlib-3.8.0-cp311-cp311-win_amd64.whl.metadata\n",
      "  Downloading matplotlib-3.8.0-cp311-cp311-win_amd64.whl.metadata (5.9 kB)\n",
      "Collecting contourpy>=1.0.1 (from matplotlib)\n",
      "  Obtaining dependency information for contourpy>=1.0.1 from https://files.pythonhosted.org/packages/e5/76/94bc17eb868f8c7397f8fdfdeae7661c1b9a35f3a7219da308596e8c252a/contourpy-1.1.1-cp311-cp311-win_amd64.whl.metadata\n",
      "  Downloading contourpy-1.1.1-cp311-cp311-win_amd64.whl.metadata (5.9 kB)\n",
      "Collecting cycler>=0.10 (from matplotlib)\n",
      "  Obtaining dependency information for cycler>=0.10 from https://files.pythonhosted.org/packages/2b/b3/70c33027c4918c10ccf176014b38f8b91cb18ac018a78854543a4fc72609/cycler-0.12.0-py3-none-any.whl.metadata\n",
      "  Downloading cycler-0.12.0-py3-none-any.whl.metadata (3.8 kB)\n",
      "Collecting fonttools>=4.22.0 (from matplotlib)\n",
      "  Obtaining dependency information for fonttools>=4.22.0 from https://files.pythonhosted.org/packages/55/a7/5936376afaeaca384c9604ac15311edd1a03a520b4f1eef31da2b42148f1/fonttools-4.43.0-cp311-cp311-win_amd64.whl.metadata\n",
      "  Downloading fonttools-4.43.0-cp311-cp311-win_amd64.whl.metadata (154 kB)\n",
      "     ---------------------------------------- 0.0/155.0 kB ? eta -:--:--\n",
      "     ------- ------------------------------- 30.7/155.0 kB 1.4 MB/s eta 0:00:01\n",
      "     -------------------------------------- 155.0/155.0 kB 2.3 MB/s eta 0:00:00\n",
      "Collecting kiwisolver>=1.0.1 (from matplotlib)\n",
      "  Obtaining dependency information for kiwisolver>=1.0.1 from https://files.pythonhosted.org/packages/1e/37/d3c2d4ba2719059a0f12730947bbe1ad5ee8bff89e8c35319dcb2c9ddb4c/kiwisolver-1.4.5-cp311-cp311-win_amd64.whl.metadata\n",
      "  Downloading kiwisolver-1.4.5-cp311-cp311-win_amd64.whl.metadata (6.5 kB)\n",
      "Requirement already satisfied: numpy<2,>=1.21 in c:\\users\\uaepe\\appdata\\local\\programs\\python\\python311\\lib\\site-packages (from matplotlib) (1.26.0)\n",
      "Requirement already satisfied: packaging>=20.0 in c:\\users\\uaepe\\appdata\\local\\programs\\python\\python311\\lib\\site-packages (from matplotlib) (23.2)\n",
      "Requirement already satisfied: pillow>=6.2.0 in c:\\users\\uaepe\\appdata\\local\\programs\\python\\python311\\lib\\site-packages (from matplotlib) (10.0.1)\n",
      "Collecting pyparsing>=2.3.1 (from matplotlib)\n",
      "  Obtaining dependency information for pyparsing>=2.3.1 from https://files.pythonhosted.org/packages/39/92/8486ede85fcc088f1b3dba4ce92dd29d126fd96b0008ea213167940a2475/pyparsing-3.1.1-py3-none-any.whl.metadata\n",
      "  Downloading pyparsing-3.1.1-py3-none-any.whl.metadata (5.1 kB)\n",
      "Requirement already satisfied: python-dateutil>=2.7 in c:\\users\\uaepe\\appdata\\local\\programs\\python\\python311\\lib\\site-packages (from matplotlib) (2.8.2)\n",
      "Requirement already satisfied: six>=1.5 in c:\\users\\uaepe\\appdata\\local\\programs\\python\\python311\\lib\\site-packages (from python-dateutil>=2.7->matplotlib) (1.16.0)\n",
      "Downloading matplotlib-3.8.0-cp311-cp311-win_amd64.whl (7.6 MB)\n",
      "   ---------------------------------------- 0.0/7.6 MB ? eta -:--:--\n",
      "   - -------------------------------------- 0.2/7.6 MB 7.6 MB/s eta 0:00:01\n",
      "   --- ------------------------------------ 0.6/7.6 MB 7.5 MB/s eta 0:00:01\n",
      "   ----- ---------------------------------- 1.1/7.6 MB 11.1 MB/s eta 0:00:01\n",
      "   ----- ---------------------------------- 1.1/7.6 MB 7.6 MB/s eta 0:00:01\n",
      "   ------ --------------------------------- 1.1/7.6 MB 5.6 MB/s eta 0:00:02\n",
      "   ------ --------------------------------- 1.3/7.6 MB 4.8 MB/s eta 0:00:02\n",
      "   ------ --------------------------------- 1.3/7.6 MB 4.4 MB/s eta 0:00:02\n",
      "   ------- -------------------------------- 1.4/7.6 MB 4.0 MB/s eta 0:00:02\n",
      "   ------- -------------------------------- 1.5/7.6 MB 3.6 MB/s eta 0:00:02\n",
      "   -------- ------------------------------- 1.5/7.6 MB 3.5 MB/s eta 0:00:02\n",
      "   -------- ------------------------------- 1.6/7.6 MB 3.2 MB/s eta 0:00:02\n",
      "   -------- ------------------------------- 1.6/7.6 MB 3.2 MB/s eta 0:00:02\n",
      "   --------- ------------------------------ 1.8/7.6 MB 3.1 MB/s eta 0:00:02\n",
      "   --------- ------------------------------ 1.8/7.6 MB 2.9 MB/s eta 0:00:02\n",
      "   ---------- ----------------------------- 1.9/7.6 MB 2.8 MB/s eta 0:00:03\n",
      "   ---------- ----------------------------- 1.9/7.6 MB 2.7 MB/s eta 0:00:03\n",
      "   ---------- ----------------------------- 2.0/7.6 MB 2.6 MB/s eta 0:00:03\n",
      "   ---------- ----------------------------- 2.1/7.6 MB 2.6 MB/s eta 0:00:03\n",
      "   ----------- ---------------------------- 2.2/7.6 MB 2.5 MB/s eta 0:00:03\n",
      "   ----------- ---------------------------- 2.2/7.6 MB 2.5 MB/s eta 0:00:03\n",
      "   ------------ --------------------------- 2.3/7.6 MB 2.4 MB/s eta 0:00:03\n",
      "   ------------ --------------------------- 2.3/7.6 MB 2.3 MB/s eta 0:00:03\n",
      "   ------------ --------------------------- 2.4/7.6 MB 2.3 MB/s eta 0:00:03\n",
      "   ------------- -------------------------- 2.5/7.6 MB 2.3 MB/s eta 0:00:03\n",
      "   ------------- -------------------------- 2.6/7.6 MB 2.3 MB/s eta 0:00:03\n",
      "   ------------- -------------------------- 2.6/7.6 MB 2.3 MB/s eta 0:00:03\n",
      "   -------------- ------------------------- 2.7/7.6 MB 2.2 MB/s eta 0:00:03\n",
      "   -------------- ------------------------- 2.8/7.6 MB 2.2 MB/s eta 0:00:03\n",
      "   -------------- ------------------------- 2.8/7.6 MB 2.1 MB/s eta 0:00:03\n",
      "   --------------- ------------------------ 2.9/7.6 MB 2.1 MB/s eta 0:00:03\n",
      "   --------------- ------------------------ 3.0/7.6 MB 2.1 MB/s eta 0:00:03\n",
      "   --------------- ------------------------ 3.0/7.6 MB 2.1 MB/s eta 0:00:03\n",
      "   ---------------- ----------------------- 3.2/7.6 MB 2.1 MB/s eta 0:00:03\n",
      "   ----------------- ---------------------- 3.3/7.6 MB 2.1 MB/s eta 0:00:03\n",
      "   ----------------- ---------------------- 3.3/7.6 MB 2.1 MB/s eta 0:00:03\n",
      "   ----------------- ---------------------- 3.4/7.6 MB 2.0 MB/s eta 0:00:03\n",
      "   ------------------ --------------------- 3.5/7.6 MB 2.0 MB/s eta 0:00:03\n",
      "   ------------------ --------------------- 3.5/7.6 MB 2.0 MB/s eta 0:00:03\n",
      "   ------------------ --------------------- 3.6/7.6 MB 2.0 MB/s eta 0:00:03\n",
      "   ------------------- -------------------- 3.7/7.6 MB 2.0 MB/s eta 0:00:03\n",
      "   ------------------- -------------------- 3.7/7.6 MB 2.0 MB/s eta 0:00:02\n",
      "   ------------------- -------------------- 3.8/7.6 MB 2.0 MB/s eta 0:00:02\n",
      "   -------------------- ------------------- 3.9/7.6 MB 1.9 MB/s eta 0:00:02\n",
      "   -------------------- ------------------- 3.9/7.6 MB 1.9 MB/s eta 0:00:02\n",
      "   -------------------- ------------------- 4.0/7.6 MB 1.9 MB/s eta 0:00:02\n",
      "   --------------------- ------------------ 4.0/7.6 MB 1.9 MB/s eta 0:00:02\n",
      "   --------------------- ------------------ 4.1/7.6 MB 1.9 MB/s eta 0:00:02\n",
      "   --------------------- ------------------ 4.1/7.6 MB 1.9 MB/s eta 0:00:02\n",
      "   --------------------- ------------------ 4.2/7.6 MB 1.8 MB/s eta 0:00:02\n",
      "   ---------------------- ----------------- 4.2/7.6 MB 1.8 MB/s eta 0:00:02\n",
      "   ---------------------- ----------------- 4.2/7.6 MB 1.8 MB/s eta 0:00:02\n",
      "   ---------------------- ----------------- 4.3/7.6 MB 1.8 MB/s eta 0:00:02\n",
      "   ---------------------- ----------------- 4.3/7.6 MB 1.8 MB/s eta 0:00:02\n",
      "   ---------------------- ----------------- 4.3/7.6 MB 1.7 MB/s eta 0:00:02\n",
      "   ---------------------- ----------------- 4.4/7.6 MB 1.7 MB/s eta 0:00:02\n",
      "   ----------------------- ---------------- 4.4/7.6 MB 1.7 MB/s eta 0:00:02\n",
      "   ----------------------- ---------------- 4.5/7.6 MB 1.7 MB/s eta 0:00:02\n",
      "   ----------------------- ---------------- 4.5/7.6 MB 1.7 MB/s eta 0:00:02\n",
      "   ----------------------- ---------------- 4.5/7.6 MB 1.7 MB/s eta 0:00:02\n",
      "   ----------------------- ---------------- 4.6/7.6 MB 1.7 MB/s eta 0:00:02\n",
      "   ------------------------ --------------- 4.6/7.6 MB 1.6 MB/s eta 0:00:02\n",
      "   ------------------------ --------------- 4.7/7.6 MB 1.6 MB/s eta 0:00:02\n",
      "   ------------------------ --------------- 4.7/7.6 MB 1.6 MB/s eta 0:00:02\n",
      "   ------------------------- -------------- 4.8/7.6 MB 1.6 MB/s eta 0:00:02\n",
      "   ------------------------- -------------- 4.8/7.6 MB 1.6 MB/s eta 0:00:02\n",
      "   ------------------------- -------------- 4.9/7.6 MB 1.6 MB/s eta 0:00:02\n",
      "   ------------------------- -------------- 5.0/7.6 MB 1.6 MB/s eta 0:00:02\n",
      "   -------------------------- ------------- 5.0/7.6 MB 1.6 MB/s eta 0:00:02\n",
      "   -------------------------- ------------- 5.1/7.6 MB 1.6 MB/s eta 0:00:02\n",
      "   -------------------------- ------------- 5.2/7.6 MB 1.6 MB/s eta 0:00:02\n",
      "   --------------------------- ------------ 5.2/7.6 MB 1.6 MB/s eta 0:00:02\n",
      "   --------------------------- ------------ 5.3/7.6 MB 1.6 MB/s eta 0:00:02\n",
      "   ---------------------------- ----------- 5.4/7.6 MB 1.6 MB/s eta 0:00:02\n",
      "   ---------------------------- ----------- 5.5/7.6 MB 1.6 MB/s eta 0:00:02\n",
      "   ---------------------------- ----------- 5.5/7.6 MB 1.6 MB/s eta 0:00:02\n",
      "   ----------------------------- ---------- 5.6/7.6 MB 1.6 MB/s eta 0:00:02\n",
      "   ----------------------------- ---------- 5.7/7.6 MB 1.6 MB/s eta 0:00:02\n",
      "   ------------------------------ --------- 5.7/7.6 MB 1.6 MB/s eta 0:00:02\n",
      "   ------------------------------ --------- 5.8/7.6 MB 1.6 MB/s eta 0:00:02\n",
      "   ------------------------------ --------- 5.9/7.6 MB 1.6 MB/s eta 0:00:02\n",
      "   ------------------------------- -------- 6.0/7.6 MB 1.6 MB/s eta 0:00:02\n",
      "   -------------------------------- ------- 6.1/7.6 MB 1.6 MB/s eta 0:00:01\n",
      "   -------------------------------- ------- 6.2/7.6 MB 1.6 MB/s eta 0:00:01\n",
      "   --------------------------------- ------ 6.3/7.6 MB 1.6 MB/s eta 0:00:01\n",
      "   --------------------------------- ------ 6.4/7.6 MB 1.6 MB/s eta 0:00:01\n",
      "   ---------------------------------- ----- 6.5/7.6 MB 1.6 MB/s eta 0:00:01\n",
      "   ---------------------------------- ----- 6.6/7.6 MB 1.6 MB/s eta 0:00:01\n",
      "   ----------------------------------- ---- 6.7/7.6 MB 1.6 MB/s eta 0:00:01\n",
      "   ----------------------------------- ---- 6.9/7.6 MB 1.7 MB/s eta 0:00:01\n",
      "   ------------------------------------ --- 6.9/7.6 MB 1.7 MB/s eta 0:00:01\n",
      "   ------------------------------------ --- 7.1/7.6 MB 1.7 MB/s eta 0:00:01\n",
      "   ------------------------------------- -- 7.2/7.6 MB 1.7 MB/s eta 0:00:01\n",
      "   -------------------------------------- - 7.3/7.6 MB 1.7 MB/s eta 0:00:01\n",
      "   -------------------------------------- - 7.4/7.6 MB 1.7 MB/s eta 0:00:01\n",
      "   ---------------------------------------  7.5/7.6 MB 1.7 MB/s eta 0:00:01\n",
      "   ---------------------------------------  7.6/7.6 MB 1.7 MB/s eta 0:00:01\n",
      "   ---------------------------------------  7.6/7.6 MB 1.7 MB/s eta 0:00:01\n",
      "   ---------------------------------------- 7.6/7.6 MB 1.7 MB/s eta 0:00:00\n",
      "Downloading contourpy-1.1.1-cp311-cp311-win_amd64.whl (480 kB)\n",
      "   ---------------------------------------- 0.0/480.5 kB ? eta -:--:--\n",
      "    --------------------------------------- 10.2/480.5 kB ? eta -:--:--\n",
      "   ---- ---------------------------------- 61.4/480.5 kB 825.8 kB/s eta 0:00:01\n",
      "   ------- ------------------------------- 92.2/480.5 kB 751.6 kB/s eta 0:00:01\n",
      "   --------- ---------------------------- 122.9/480.5 kB 722.1 kB/s eta 0:00:01\n",
      "   ----------- -------------------------- 143.4/480.5 kB 711.9 kB/s eta 0:00:01\n",
      "   ------------- ------------------------ 174.1/480.5 kB 655.4 kB/s eta 0:00:01\n",
      "   --------------- ---------------------- 194.6/480.5 kB 655.9 kB/s eta 0:00:01\n",
      "   ---------------- --------------------- 204.8/480.5 kB 593.2 kB/s eta 0:00:01\n",
      "   ------------------- ------------------ 245.8/480.5 kB 603.9 kB/s eta 0:00:01\n",
      "   --------------------- ---------------- 276.5/480.5 kB 609.2 kB/s eta 0:00:01\n",
      "   ---------------------- --------------- 286.7/480.5 kB 590.8 kB/s eta 0:00:01\n",
      "   ------------------------- ------------ 327.7/480.5 kB 616.4 kB/s eta 0:00:01\n",
      "   ----------------------------- -------- 368.6/480.5 kB 620.1 kB/s eta 0:00:01\n",
      "   -------------------------------- ----- 409.6/480.5 kB 639.0 kB/s eta 0:00:01\n",
      "   ---------------------------------- --- 440.3/480.5 kB 640.0 kB/s eta 0:00:01\n",
      "   -------------------------------------- 480.5/480.5 kB 655.0 kB/s eta 0:00:00\n",
      "Downloading cycler-0.12.0-py3-none-any.whl (8.2 kB)\n",
      "Downloading fonttools-4.43.0-cp311-cp311-win_amd64.whl (2.1 MB)\n",
      "   ---------------------------------------- 0.0/2.1 MB ? eta -:--:--\n",
      "    --------------------------------------- 0.0/2.1 MB 1.4 MB/s eta 0:00:02\n",
      "   - -------------------------------------- 0.1/2.1 MB 919.0 kB/s eta 0:00:03\n",
      "   -- ------------------------------------- 0.1/2.1 MB 1.0 MB/s eta 0:00:02\n",
      "   --- ------------------------------------ 0.2/2.1 MB 958.1 kB/s eta 0:00:03\n",
      "   ---- ----------------------------------- 0.2/2.1 MB 1.1 MB/s eta 0:00:02\n",
      "   ----- ---------------------------------- 0.3/2.1 MB 1.0 MB/s eta 0:00:02\n",
      "   ------ --------------------------------- 0.3/2.1 MB 1.1 MB/s eta 0:00:02\n",
      "   ------- -------------------------------- 0.4/2.1 MB 1.1 MB/s eta 0:00:02\n",
      "   -------- ------------------------------- 0.5/2.1 MB 1.1 MB/s eta 0:00:02\n",
      "   --------- ------------------------------ 0.5/2.1 MB 1.2 MB/s eta 0:00:02\n",
      "   ----------- ---------------------------- 0.6/2.1 MB 1.2 MB/s eta 0:00:02\n",
      "   ------------ --------------------------- 0.7/2.1 MB 1.2 MB/s eta 0:00:02\n",
      "   ------------- -------------------------- 0.7/2.1 MB 1.2 MB/s eta 0:00:02\n",
      "   --------------- ------------------------ 0.8/2.1 MB 1.2 MB/s eta 0:00:02\n",
      "   ---------------- ----------------------- 0.9/2.1 MB 1.3 MB/s eta 0:00:01\n",
      "   ------------------ --------------------- 1.0/2.1 MB 1.3 MB/s eta 0:00:01\n",
      "   ------------------- -------------------- 1.0/2.1 MB 1.3 MB/s eta 0:00:01\n",
      "   --------------------- ------------------ 1.1/2.1 MB 1.3 MB/s eta 0:00:01\n",
      "   ---------------------- ----------------- 1.2/2.1 MB 1.4 MB/s eta 0:00:01\n",
      "   ------------------------ --------------- 1.3/2.1 MB 1.4 MB/s eta 0:00:01\n",
      "   -------------------------- ------------- 1.4/2.1 MB 1.4 MB/s eta 0:00:01\n",
      "   --------------------------- ------------ 1.5/2.1 MB 1.5 MB/s eta 0:00:01\n",
      "   ----------------------------- ---------- 1.6/2.1 MB 1.5 MB/s eta 0:00:01\n",
      "   ------------------------------- -------- 1.7/2.1 MB 1.5 MB/s eta 0:00:01\n",
      "   -------------------------------- ------- 1.8/2.1 MB 1.5 MB/s eta 0:00:01\n",
      "   ---------------------------------- ----- 1.9/2.1 MB 1.5 MB/s eta 0:00:01\n",
      "   ------------------------------------ --- 2.0/2.1 MB 1.6 MB/s eta 0:00:01\n",
      "   -------------------------------------- - 2.1/2.1 MB 1.6 MB/s eta 0:00:01\n",
      "   ---------------------------------------- 2.1/2.1 MB 1.6 MB/s eta 0:00:00\n",
      "Downloading kiwisolver-1.4.5-cp311-cp311-win_amd64.whl (56 kB)\n",
      "   ---------------------------------------- 0.0/56.1 kB ? eta -:--:--\n",
      "   ---------------------------------------- 56.1/56.1 kB 3.1 MB/s eta 0:00:00\n",
      "Downloading pyparsing-3.1.1-py3-none-any.whl (103 kB)\n",
      "   ---------------------------------------- 0.0/103.1 kB ? eta -:--:--\n",
      "   --------------------------- ------------ 71.7/103.1 kB 2.0 MB/s eta 0:00:01\n",
      "   ---------------------------------------- 103.1/103.1 kB 3.0 MB/s eta 0:00:00\n",
      "Installing collected packages: pyparsing, kiwisolver, fonttools, cycler, contourpy, matplotlib\n",
      "Successfully installed contourpy-1.1.1 cycler-0.12.0 fonttools-4.43.0 kiwisolver-1.4.5 matplotlib-3.8.0 pyparsing-3.1.1\n"
     ]
    }
   ],
   "source": [
    "!pip install torch torchvision torchaudio\n",
    "!pip install easyocr\n",
    "!pip install matplotlib"
   ]
  },
  {
   "cell_type": "code",
   "execution_count": 5,
   "id": "d13b9d4b",
   "metadata": {},
   "outputs": [],
   "source": [
    "import easyocr as ea\n",
    "import cv2\n",
    "from matplotlib import pyplot as plt\n",
    "import numpy as np\n"
   ]
  },
  {
   "cell_type": "code",
   "execution_count": 6,
   "id": "9987a1b3",
   "metadata": {},
   "outputs": [],
   "source": [
    "IMAGE_PATH = 'ur2.jpg'"
   ]
  },
  {
   "cell_type": "code",
   "execution_count": 7,
   "id": "c2bde322",
   "metadata": {
    "scrolled": true
   },
   "outputs": [
    {
     "name": "stderr",
     "output_type": "stream",
     "text": [
      "Neither CUDA nor MPS are available - defaulting to CPU. Note: This module is much faster with a GPU.\n"
     ]
    },
    {
     "data": {
      "text/plain": [
       "[([[19, 23], [47, 23], [47, 37], [19, 37]], 'फ़ठा', 0.028092594867781755),\n",
       " ([[160, 22], [225, 22], [225, 40], [160, 40]], 'ज़टफ़ँ1', 0.002030132518555991),\n",
       " ([[19, 47], [51, 47], [51, 61], [19, 61]], '$ङौ[', 0.025684665888547897),\n",
       " ([[75, 45], [113, 45], [113, 61], [75, 61]], 'साबित', 0.6252828846844894),\n",
       " ([[123, 47], [145, 47], [145, 61], [123, 61]], '=.*', 0.08060506224360228),\n",
       " ([[159, 47], [221, 47], [221, 61], [159, 61]],\n",
       "  'गटट @\"',\n",
       "  0.0013743492935664673),\n",
       " ([[19, 77], [55, 77], [55, 91], [19, 91]], 'म11', 0.01869170198458605),\n",
       " ([[75, 77], [109, 77], [109, 91], [75, 91]], 'सचात', 0.6774242097606437),\n",
       " ([[159, 75], [209, 75], [209, 91], [159, 91]],\n",
       "  'डधशठ]ौध ,',\n",
       "  0.0011137665433790336),\n",
       " ([[19, 105], [63, 105], [63, 119], [19, 119]], 'ड१ड़0फ़1', 0.00529065517966041),\n",
       " ([[77, 105], [105, 105], [105, 123], [77, 123]],\n",
       "  'सुनूत',\n",
       "  0.22777840554536885),\n",
       " ([[123, 103], [147, 103], [147, 119], [123, 119]], '=:', 0.7846682009173076),\n",
       " ([[158, 104], [195, 104], [195, 121], [158, 121]],\n",
       "  'फ़णी',\n",
       "  0.03262841080616595),\n",
       " ([[19, 133], [67, 133], [67, 147], [19, 147]], 'ख़!ड़२!', 0.032050613984525744),\n",
       " ([[75, 135], [111, 135], [111, 153], [75, 153]],\n",
       "  'मुस्यत',\n",
       "  0.2774328030523479),\n",
       " ([[123, 133], [145, 133], [145, 147], [123, 147]],\n",
       "  '=:*',\n",
       "  0.12337768674985411),\n",
       " ([[158, 131], [209, 131], [209, 149], [158, 149]],\n",
       "  'फ़भ$1',\n",
       "  0.014724922366440296),\n",
       " ([[19, 161], [51, 161], [51, 177], [19, 177]], '१फ़त!', 0.008619123138487339),\n",
       " ([[75, 163], [115, 163], [115, 177], [75, 177]], 'इसबात', 0.7763655063030896),\n",
       " ([[123, 161], [147, 161], [147, 177], [123, 177]], '=-', 0.8912160515476399),\n",
       " ([[159, 161], [227, 161], [227, 177], [159, 177]], 'ओ', 0.007514558223252976)]"
      ]
     },
     "execution_count": 7,
     "metadata": {},
     "output_type": "execute_result"
    }
   ],
   "source": [
    "reader = ea.Reader(['hi'])\n",
    "result = reader.readtext(IMAGE_PATH)\n",
    "result"
   ]
  },
  {
   "cell_type": "code",
   "execution_count": 8,
   "id": "cdf7cfa1",
   "metadata": {},
   "outputs": [
    {
     "name": "stderr",
     "output_type": "stream",
     "text": [
      "Neither CUDA nor MPS are available - defaulting to CPU. Note: This module is much faster with a GPU.\n"
     ]
    }
   ],
   "source": [
    "def is_hindi_text(text):\n",
    "    # Define the Unicode range for Hindi characters (Devanagari script)\n",
    "    hindi_script_range = range(0x0900, 0x097F + 1)\n",
    "    return all(ord(char) in hindi_script_range for char in text)\n",
    "\n",
    "IMAGE_PATH = 'ur2.jpg'\n",
    "reader = ea.Reader(['hi'])\n",
    "result = reader.readtext(IMAGE_PATH)\n",
    "output_array = []\n",
    "for item in result:\n",
    "    text_to_print = item[1]\n",
    "    if is_hindi_text(text_to_print):\n",
    "        output_array.append(text_to_print)\n",
    "\n",
    "res = ','.join(str(v) for v in output_array)\n",
    "with open(\"output.txt\", \"a\", encoding=\"utf-8\") as f:\n",
    "    print(res, file=f)"
   ]
  },
  {
   "cell_type": "code",
   "execution_count": 9,
   "id": "3f2a9c07",
   "metadata": {},
   "outputs": [],
   "source": [
    "top_left =tuple(result[0][0][0])\n",
    "bottom_right = tuple(result[0][0][2])\n",
    "text = result [0][1]\n",
    "font =cv2.FONT_HERSHEY_SIMPLEX"
   ]
  },
  {
   "cell_type": "code",
   "execution_count": 10,
   "id": "72ae56c6",
   "metadata": {},
   "outputs": [
    {
     "data": {
      "image/png": "[encoded data removed]",
      "text/plain": [
       "<Figure size 1000x1000 with 1 Axes>"
      ]
     },
     "metadata": {},
     "output_type": "display_data"
    }
   ],
   "source": [
    "img = cv2.imread(IMAGE_PATH)\n",
    "for detection in result:\n",
    "    top_left =tuple([int(val) for val in detection[0][0]])\n",
    "    bottom_right = tuple([int(val) for val in detection[0][2]])\n",
    "    text = detection[1]\n",
    "    font = cv2.FONT_HERSHEY_SIMPLEX\n",
    "    font = cv2.rectangle(img,top_left,bottom_right,(0,255,0),5)\n",
    "plt.figure(figsize=(10,10))\n",
    "plt.imshow(img)\n",
    "plt.show()"
   ]
  },
  {
   "cell_type": "code",
   "execution_count": 12,
   "id": "52609bcf",
   "metadata": {},
   "outputs": [
    {
     "ename": "SyntaxError",
     "evalue": "(unicode error) 'unicodeescape' codec can't decode bytes in position 2-3: truncated \\UXXXXXXXX escape (355930092.py, line 2)",
     "output_type": "error",
     "traceback": [
      "\u001b[1;36m  Cell \u001b[1;32mIn[12], line 2\u001b[1;36m\u001b[0m\n\u001b[1;33m    os.startfile('C:\\Users\\uaepe\\OneDrive\\Desktop\\Hindi--OCR-And-Translation-main\\\\output.txt')\u001b[0m\n\u001b[1;37m                                                                                              ^\u001b[0m\n\u001b[1;31mSyntaxError\u001b[0m\u001b[1;31m:\u001b[0m (unicode error) 'unicodeescape' codec can't decode bytes in position 2-3: truncated \\UXXXXXXXX escape\n"
     ]
    }
   ],
   "source": [
    "import os\n",
    "os.startfile('C:\\Users\\uaepe\\OneDrive\\Desktop\\Hindi--OCR-And-Translation-main\\\\output.txt')"
   ]
  },
  {
   "cell_type": "code",
   "execution_count": 1,
   "id": "083dcae5",
   "metadata": {},
   "outputs": [
    {
     "name": "stdout",
     "output_type": "stream",
     "text": [
      "Looking in indexes: https://download.pytorch.org/whl/cu117\n",
      "Requirement already satisfied: torch in c:\\users\\uaepe\\appdata\\local\\programs\\python\\python311\\lib\\site-packages (2.0.1)\n",
      "Requirement already satisfied: torchvision in c:\\users\\uaepe\\appdata\\local\\programs\\python\\python311\\lib\\site-packages (0.15.2)\n",
      "Requirement already satisfied: torchaudio in c:\\users\\uaepe\\appdata\\local\\programs\\python\\python311\\lib\\site-packages (2.0.2)\n",
      "Requirement already satisfied: filelock in c:\\users\\uaepe\\appdata\\local\\programs\\python\\python311\\lib\\site-packages (from torch) (3.12.4)\n",
      "Requirement already satisfied: typing-extensions in c:\\users\\uaepe\\appdata\\local\\programs\\python\\python311\\lib\\site-packages (from torch) (4.8.0)\n",
      "Requirement already satisfied: sympy in c:\\users\\uaepe\\appdata\\local\\programs\\python\\python311\\lib\\site-packages (from torch) (1.12)\n",
      "Requirement already satisfied: networkx in c:\\users\\uaepe\\appdata\\local\\programs\\python\\python311\\lib\\site-packages (from torch) (3.1)\n",
      "Requirement already satisfied: jinja2 in c:\\users\\uaepe\\appdata\\local\\programs\\python\\python311\\lib\\site-packages (from torch) (3.1.2)\n",
      "Requirement already satisfied: numpy in c:\\users\\uaepe\\appdata\\local\\programs\\python\\python311\\lib\\site-packages (from torchvision) (1.26.0)\n",
      "Requirement already satisfied: requests in c:\\users\\uaepe\\appdata\\local\\programs\\python\\python311\\lib\\site-packages (from torchvision) (2.31.0)\n",
      "Requirement already satisfied: pillow!=8.3.*,>=5.3.0 in c:\\users\\uaepe\\appdata\\local\\programs\\python\\python311\\lib\\site-packages (from torchvision) (10.0.1)\n",
      "Requirement already satisfied: MarkupSafe>=2.0 in c:\\users\\uaepe\\appdata\\local\\programs\\python\\python311\\lib\\site-packages (from jinja2->torch) (2.1.3)\n",
      "Requirement already satisfied: charset-normalizer<4,>=2 in c:\\users\\uaepe\\appdata\\local\\programs\\python\\python311\\lib\\site-packages (from requests->torchvision) (3.3.0)\n",
      "Requirement already satisfied: idna<4,>=2.5 in c:\\users\\uaepe\\appdata\\local\\programs\\python\\python311\\lib\\site-packages (from requests->torchvision) (3.4)\n",
      "Requirement already satisfied: urllib3<3,>=1.21.1 in c:\\users\\uaepe\\appdata\\local\\programs\\python\\python311\\lib\\site-packages (from requests->torchvision) (2.0.5)\n",
      "Requirement already satisfied: certifi>=2017.4.17 in c:\\users\\uaepe\\appdata\\local\\programs\\python\\python311\\lib\\site-packages (from requests->torchvision) (2023.7.22)\n",
      "Requirement already satisfied: mpmath>=0.19 in c:\\users\\uaepe\\appdata\\local\\programs\\python\\python311\\lib\\site-packages (from sympy->torch) (1.3.0)\n",
      "Requirement already satisfied: transformers in c:\\users\\uaepe\\appdata\\local\\programs\\python\\python311\\lib\\site-packages (4.33.3)\n",
      "Requirement already satisfied: ipywidgets in c:\\users\\uaepe\\appdata\\local\\programs\\python\\python311\\lib\\site-packages (8.1.1)\n",
      "Requirement already satisfied: gradio in c:\\users\\uaepe\\appdata\\local\\programs\\python\\python311\\lib\\site-packages (3.45.2)\n",
      "Requirement already satisfied: filelock in c:\\users\\uaepe\\appdata\\local\\programs\\python\\python311\\lib\\site-packages (from transformers) (3.12.4)\n",
      "Requirement already satisfied: huggingface-hub<1.0,>=0.15.1 in c:\\users\\uaepe\\appdata\\local\\programs\\python\\python311\\lib\\site-packages (from transformers) (0.17.3)\n",
      "Requirement already satisfied: numpy>=1.17 in c:\\users\\uaepe\\appdata\\local\\programs\\python\\python311\\lib\\site-packages (from transformers) (1.26.0)\n",
      "Requirement already satisfied: packaging>=20.0 in c:\\users\\uaepe\\appdata\\local\\programs\\python\\python311\\lib\\site-packages (from transformers) (23.2)\n",
      "Requirement already satisfied: pyyaml>=5.1 in c:\\users\\uaepe\\appdata\\local\\programs\\python\\python311\\lib\\site-packages (from transformers) (6.0.1)\n",
      "Requirement already satisfied: regex!=2019.12.17 in c:\\users\\uaepe\\appdata\\local\\programs\\python\\python311\\lib\\site-packages (from transformers) (2023.8.8)\n",
      "Requirement already satisfied: requests in c:\\users\\uaepe\\appdata\\local\\programs\\python\\python311\\lib\\site-packages (from transformers) (2.31.0)\n",
      "Requirement already satisfied: tokenizers!=0.11.3,<0.14,>=0.11.1 in c:\\users\\uaepe\\appdata\\local\\programs\\python\\python311\\lib\\site-packages (from transformers) (0.13.3)\n",
      "Requirement already satisfied: safetensors>=0.3.1 in c:\\users\\uaepe\\appdata\\local\\programs\\python\\python311\\lib\\site-packages (from transformers) (0.3.3)\n",
      "Requirement already satisfied: tqdm>=4.27 in c:\\users\\uaepe\\appdata\\local\\programs\\python\\python311\\lib\\site-packages (from transformers) (4.66.1)\n",
      "Requirement already satisfied: comm>=0.1.3 in c:\\users\\uaepe\\appdata\\local\\programs\\python\\python311\\lib\\site-packages (from ipywidgets) (0.1.4)\n",
      "Requirement already satisfied: ipython>=6.1.0 in c:\\users\\uaepe\\appdata\\local\\programs\\python\\python311\\lib\\site-packages (from ipywidgets) (8.16.1)\n",
      "Requirement already satisfied: traitlets>=4.3.1 in c:\\users\\uaepe\\appdata\\local\\programs\\python\\python311\\lib\\site-packages (from ipywidgets) (5.10.1)\n",
      "Requirement already satisfied: widgetsnbextension~=4.0.9 in c:\\users\\uaepe\\appdata\\local\\programs\\python\\python311\\lib\\site-packages (from ipywidgets) (4.0.9)\n",
      "Requirement already satisfied: jupyterlab-widgets~=3.0.9 in c:\\users\\uaepe\\appdata\\local\\programs\\python\\python311\\lib\\site-packages (from ipywidgets) (3.0.9)\n",
      "Requirement already satisfied: aiofiles<24.0,>=22.0 in c:\\users\\uaepe\\appdata\\local\\programs\\python\\python311\\lib\\site-packages (from gradio) (23.2.1)\n",
      "Requirement already satisfied: altair<6.0,>=4.2.0 in c:\\users\\uaepe\\appdata\\local\\programs\\python\\python311\\lib\\site-packages (from gradio) (5.1.1)\n",
      "Requirement already satisfied: fastapi in c:\\users\\uaepe\\appdata\\local\\programs\\python\\python311\\lib\\site-packages (from gradio) (0.103.2)\n",
      "Requirement already satisfied: ffmpy in c:\\users\\uaepe\\appdata\\local\\programs\\python\\python311\\lib\\site-packages (from gradio) (0.3.1)\n",
      "Requirement already satisfied: gradio-client==0.5.3 in c:\\users\\uaepe\\appdata\\local\\programs\\python\\python311\\lib\\site-packages (from gradio) (0.5.3)\n",
      "Requirement already satisfied: httpx in c:\\users\\uaepe\\appdata\\local\\programs\\python\\python311\\lib\\site-packages (from gradio) (0.25.0)\n",
      "Requirement already satisfied: importlib-resources<7.0,>=1.3 in c:\\users\\uaepe\\appdata\\local\\programs\\python\\python311\\lib\\site-packages (from gradio) (6.1.0)\n",
      "Requirement already satisfied: jinja2<4.0 in c:\\users\\uaepe\\appdata\\local\\programs\\python\\python311\\lib\\site-packages (from gradio) (3.1.2)\n",
      "Requirement already satisfied: markupsafe~=2.0 in c:\\users\\uaepe\\appdata\\local\\programs\\python\\python311\\lib\\site-packages (from gradio) (2.1.3)\n",
      "Requirement already satisfied: matplotlib~=3.0 in c:\\users\\uaepe\\appdata\\local\\programs\\python\\python311\\lib\\site-packages (from gradio) (3.8.0)\n",
      "Requirement already satisfied: orjson~=3.0 in c:\\users\\uaepe\\appdata\\local\\programs\\python\\python311\\lib\\site-packages (from gradio) (3.9.7)\n",
      "Requirement already satisfied: pandas<3.0,>=1.0 in c:\\users\\uaepe\\appdata\\local\\programs\\python\\python311\\lib\\site-packages (from gradio) (2.1.1)\n",
      "Requirement already satisfied: pillow<11.0,>=8.0 in c:\\users\\uaepe\\appdata\\local\\programs\\python\\python311\\lib\\site-packages (from gradio) (10.0.1)\n",
      "Requirement already satisfied: pydantic!=1.8,!=1.8.1,!=2.0.0,!=2.0.1,<3.0.0,>=1.7.4 in c:\\users\\uaepe\\appdata\\local\\programs\\python\\python311\\lib\\site-packages (from gradio) (2.4.2)\n",
      "Requirement already satisfied: pydub in c:\\users\\uaepe\\appdata\\local\\programs\\python\\python311\\lib\\site-packages (from gradio) (0.25.1)\n",
      "Requirement already satisfied: python-multipart in c:\\users\\uaepe\\appdata\\local\\programs\\python\\python311\\lib\\site-packages (from gradio) (0.0.6)\n",
      "Requirement already satisfied: semantic-version~=2.0 in c:\\users\\uaepe\\appdata\\local\\programs\\python\\python311\\lib\\site-packages (from gradio) (2.10.0)\n",
      "Requirement already satisfied: typing-extensions~=4.0 in c:\\users\\uaepe\\appdata\\local\\programs\\python\\python311\\lib\\site-packages (from gradio) (4.8.0)\n",
      "Requirement already satisfied: uvicorn>=0.14.0 in c:\\users\\uaepe\\appdata\\local\\programs\\python\\python311\\lib\\site-packages (from gradio) (0.23.2)\n",
      "Requirement already satisfied: websockets<12.0,>=10.0 in c:\\users\\uaepe\\appdata\\local\\programs\\python\\python311\\lib\\site-packages (from gradio) (11.0.3)\n",
      "Requirement already satisfied: fsspec in c:\\users\\uaepe\\appdata\\local\\programs\\python\\python311\\lib\\site-packages (from gradio-client==0.5.3->gradio) (2023.9.2)\n",
      "Requirement already satisfied: jsonschema>=3.0 in c:\\users\\uaepe\\appdata\\local\\programs\\python\\python311\\lib\\site-packages (from altair<6.0,>=4.2.0->gradio) (4.19.1)\n",
      "Requirement already satisfied: toolz in c:\\users\\uaepe\\appdata\\local\\programs\\python\\python311\\lib\\site-packages (from altair<6.0,>=4.2.0->gradio) (0.12.0)\n",
      "Requirement already satisfied: backcall in c:\\users\\uaepe\\appdata\\local\\programs\\python\\python311\\lib\\site-packages (from ipython>=6.1.0->ipywidgets) (0.2.0)\n",
      "Requirement already satisfied: decorator in c:\\users\\uaepe\\appdata\\local\\programs\\python\\python311\\lib\\site-packages (from ipython>=6.1.0->ipywidgets) (5.1.1)\n",
      "Requirement already satisfied: jedi>=0.16 in c:\\users\\uaepe\\appdata\\local\\programs\\python\\python311\\lib\\site-packages (from ipython>=6.1.0->ipywidgets) (0.19.1)\n",
      "Requirement already satisfied: matplotlib-inline in c:\\users\\uaepe\\appdata\\local\\programs\\python\\python311\\lib\\site-packages (from ipython>=6.1.0->ipywidgets) (0.1.6)\n",
      "Requirement already satisfied: pickleshare in c:\\users\\uaepe\\appdata\\local\\programs\\python\\python311\\lib\\site-packages (from ipython>=6.1.0->ipywidgets) (0.7.5)\n",
      "Requirement already satisfied: prompt-toolkit!=3.0.37,<3.1.0,>=3.0.30 in c:\\users\\uaepe\\appdata\\local\\programs\\python\\python311\\lib\\site-packages (from ipython>=6.1.0->ipywidgets) (3.0.39)\n",
      "Requirement already satisfied: pygments>=2.4.0 in c:\\users\\uaepe\\appdata\\local\\programs\\python\\python311\\lib\\site-packages (from ipython>=6.1.0->ipywidgets) (2.16.1)\n",
      "Requirement already satisfied: stack-data in c:\\users\\uaepe\\appdata\\local\\programs\\python\\python311\\lib\\site-packages (from ipython>=6.1.0->ipywidgets) (0.6.3)\n",
      "Requirement already satisfied: colorama in c:\\users\\uaepe\\appdata\\local\\programs\\python\\python311\\lib\\site-packages (from ipython>=6.1.0->ipywidgets) (0.4.6)\n",
      "Requirement already satisfied: contourpy>=1.0.1 in c:\\users\\uaepe\\appdata\\local\\programs\\python\\python311\\lib\\site-packages (from matplotlib~=3.0->gradio) (1.1.1)\n",
      "Requirement already satisfied: cycler>=0.10 in c:\\users\\uaepe\\appdata\\local\\programs\\python\\python311\\lib\\site-packages (from matplotlib~=3.0->gradio) (0.12.0)\n",
      "Requirement already satisfied: fonttools>=4.22.0 in c:\\users\\uaepe\\appdata\\local\\programs\\python\\python311\\lib\\site-packages (from matplotlib~=3.0->gradio) (4.43.0)\n",
      "Requirement already satisfied: kiwisolver>=1.0.1 in c:\\users\\uaepe\\appdata\\local\\programs\\python\\python311\\lib\\site-packages (from matplotlib~=3.0->gradio) (1.4.5)\n",
      "Requirement already satisfied: pyparsing>=2.3.1 in c:\\users\\uaepe\\appdata\\local\\programs\\python\\python311\\lib\\site-packages (from matplotlib~=3.0->gradio) (3.1.1)\n",
      "Requirement already satisfied: python-dateutil>=2.7 in c:\\users\\uaepe\\appdata\\local\\programs\\python\\python311\\lib\\site-packages (from matplotlib~=3.0->gradio) (2.8.2)\n",
      "Requirement already satisfied: pytz>=2020.1 in c:\\users\\uaepe\\appdata\\local\\programs\\python\\python311\\lib\\site-packages (from pandas<3.0,>=1.0->gradio) (2023.3.post1)\n",
      "Requirement already satisfied: tzdata>=2022.1 in c:\\users\\uaepe\\appdata\\local\\programs\\python\\python311\\lib\\site-packages (from pandas<3.0,>=1.0->gradio) (2023.3)\n",
      "Requirement already satisfied: annotated-types>=0.4.0 in c:\\users\\uaepe\\appdata\\local\\programs\\python\\python311\\lib\\site-packages (from pydantic!=1.8,!=1.8.1,!=2.0.0,!=2.0.1,<3.0.0,>=1.7.4->gradio) (0.5.0)\n",
      "Requirement already satisfied: pydantic-core==2.10.1 in c:\\users\\uaepe\\appdata\\local\\programs\\python\\python311\\lib\\site-packages (from pydantic!=1.8,!=1.8.1,!=2.0.0,!=2.0.1,<3.0.0,>=1.7.4->gradio) (2.10.1)\n",
      "Requirement already satisfied: charset-normalizer<4,>=2 in c:\\users\\uaepe\\appdata\\local\\programs\\python\\python311\\lib\\site-packages (from requests->transformers) (3.3.0)\n",
      "Requirement already satisfied: idna<4,>=2.5 in c:\\users\\uaepe\\appdata\\local\\programs\\python\\python311\\lib\\site-packages (from requests->transformers) (3.4)\n",
      "Requirement already satisfied: urllib3<3,>=1.21.1 in c:\\users\\uaepe\\appdata\\local\\programs\\python\\python311\\lib\\site-packages (from requests->transformers) (2.0.5)\n",
      "Requirement already satisfied: certifi>=2017.4.17 in c:\\users\\uaepe\\appdata\\local\\programs\\python\\python311\\lib\\site-packages (from requests->transformers) (2023.7.22)\n",
      "Requirement already satisfied: click>=7.0 in c:\\users\\uaepe\\appdata\\local\\programs\\python\\python311\\lib\\site-packages (from uvicorn>=0.14.0->gradio) (8.1.7)\n",
      "Requirement already satisfied: h11>=0.8 in c:\\users\\uaepe\\appdata\\local\\programs\\python\\python311\\lib\\site-packages (from uvicorn>=0.14.0->gradio) (0.14.0)\n",
      "Requirement already satisfied: anyio<4.0.0,>=3.7.1 in c:\\users\\uaepe\\appdata\\local\\programs\\python\\python311\\lib\\site-packages (from fastapi->gradio) (3.7.1)\n",
      "Requirement already satisfied: starlette<0.28.0,>=0.27.0 in c:\\users\\uaepe\\appdata\\local\\programs\\python\\python311\\lib\\site-packages (from fastapi->gradio) (0.27.0)\n",
      "Requirement already satisfied: httpcore<0.19.0,>=0.18.0 in c:\\users\\uaepe\\appdata\\local\\programs\\python\\python311\\lib\\site-packages (from httpx->gradio) (0.18.0)\n",
      "Requirement already satisfied: sniffio in c:\\users\\uaepe\\appdata\\local\\programs\\python\\python311\\lib\\site-packages (from httpx->gradio) (1.3.0)\n",
      "Requirement already satisfied: parso<0.9.0,>=0.8.3 in c:\\users\\uaepe\\appdata\\local\\programs\\python\\python311\\lib\\site-packages (from jedi>=0.16->ipython>=6.1.0->ipywidgets) (0.8.3)\n",
      "Requirement already satisfied: attrs>=22.2.0 in c:\\users\\uaepe\\appdata\\local\\programs\\python\\python311\\lib\\site-packages (from jsonschema>=3.0->altair<6.0,>=4.2.0->gradio) (23.1.0)\n",
      "Requirement already satisfied: jsonschema-specifications>=2023.03.6 in c:\\users\\uaepe\\appdata\\local\\programs\\python\\python311\\lib\\site-packages (from jsonschema>=3.0->altair<6.0,>=4.2.0->gradio) (2023.7.1)\n",
      "Requirement already satisfied: referencing>=0.28.4 in c:\\users\\uaepe\\appdata\\local\\programs\\python\\python311\\lib\\site-packages (from jsonschema>=3.0->altair<6.0,>=4.2.0->gradio) (0.30.2)\n",
      "Requirement already satisfied: rpds-py>=0.7.1 in c:\\users\\uaepe\\appdata\\local\\programs\\python\\python311\\lib\\site-packages (from jsonschema>=3.0->altair<6.0,>=4.2.0->gradio) (0.10.3)\n",
      "Requirement already satisfied: wcwidth in c:\\users\\uaepe\\appdata\\local\\programs\\python\\python311\\lib\\site-packages (from prompt-toolkit!=3.0.37,<3.1.0,>=3.0.30->ipython>=6.1.0->ipywidgets) (0.2.8)\n",
      "Requirement already satisfied: six>=1.5 in c:\\users\\uaepe\\appdata\\local\\programs\\python\\python311\\lib\\site-packages (from python-dateutil>=2.7->matplotlib~=3.0->gradio) (1.16.0)\n",
      "Requirement already satisfied: executing>=1.2.0 in c:\\users\\uaepe\\appdata\\local\\programs\\python\\python311\\lib\\site-packages (from stack-data->ipython>=6.1.0->ipywidgets) (2.0.0)\n",
      "Requirement already satisfied: asttokens>=2.1.0 in c:\\users\\uaepe\\appdata\\local\\programs\\python\\python311\\lib\\site-packages (from stack-data->ipython>=6.1.0->ipywidgets) (2.4.0)\n",
      "Requirement already satisfied: pure-eval in c:\\users\\uaepe\\appdata\\local\\programs\\python\\python311\\lib\\site-packages (from stack-data->ipython>=6.1.0->ipywidgets) (0.2.2)\n",
      "Requirement already satisfied: sentencepiece in c:\\users\\uaepe\\appdata\\local\\programs\\python\\python311\\lib\\site-packages (0.1.99)\n"
     ]
    }
   ],
   "source": [
    "!pip3 install torch torchvision torchaudio --index-url https://download.pytorch.org/whl/cu117\n",
    "!pip install transformers ipywidgets gradio --upgrade\n",
    "!pip install sentencepiece"
   ]
  },
  {
   "cell_type": "code",
   "execution_count": 1,
   "id": "d02ee06f",
   "metadata": {},
   "outputs": [],
   "source": [
    "import gradio as gr  #ui library\n",
    "from transformers import pipeline # tranform library"
   ]
  },
  {
   "cell_type": "code",
   "execution_count": 2,
   "id": "6b4be7c1",
   "metadata": {},
   "outputs": [
    {
     "name": "stderr",
     "output_type": "stream",
     "text": [
      "C:\\Users\\uaepe\\AppData\\Local\\Programs\\Python\\Python311\\Lib\\site-packages\\transformers\\models\\marian\\tokenization_marian.py:194: UserWarning: Recommended: pip install sacremoses.\n",
      "  warnings.warn(\"Recommended: pip install sacremoses.\")\n"
     ]
    }
   ],
   "source": [
    "translation_pipeline = pipeline('translation_hi_to_en',model ='Helsinki-NLP/opus-mt-hi-en')"
   ]
  },
  {
   "cell_type": "code",
   "execution_count": 3,
   "id": "773bb0d0",
   "metadata": {},
   "outputs": [],
   "source": [
    "results = translation_pipeline('बारिश')"
   ]
  },
  {
   "cell_type": "code",
   "execution_count": 4,
   "id": "68bf6051",
   "metadata": {},
   "outputs": [
    {
     "data": {
      "text/plain": [
       "'Rain'"
      ]
     },
     "execution_count": 4,
     "metadata": {},
     "output_type": "execute_result"
    }
   ],
   "source": [
    "results[0]['translation_text']"
   ]
  },
  {
   "cell_type": "code",
   "execution_count": 5,
   "id": "318ebab5",
   "metadata": {},
   "outputs": [],
   "source": [
    "def translate_transformers(from_text):\n",
    "    results = translation_pipeline(from_text)\n",
    "    return results[0]['translation_text']"
   ]
  },
  {
   "cell_type": "code",
   "execution_count": 6,
   "id": "ccd5e5cf",
   "metadata": {},
   "outputs": [
    {
     "data": {
      "text/plain": [
       "'Rain'"
      ]
     },
     "execution_count": 6,
     "metadata": {},
     "output_type": "execute_result"
    }
   ],
   "source": [
    "translate_transformers('बारिश')"
   ]
  },
  {
   "cell_type": "code",
   "execution_count": 7,
   "id": "dace3219",
   "metadata": {},
   "outputs": [],
   "source": [
    "import gradio as gr\n",
    "\n",
    "interface = gr.Interface(fn=translate_transformers, \n",
    "                         inputs=gr.components.Textbox(lines=2, placeholder='Text to translate'),\n",
    "                         outputs='text')\n"
   ]
  },
  {
   "cell_type": "code",
   "execution_count": 8,
   "id": "07666fbd",
   "metadata": {},
   "outputs": [
    {
     "name": "stdout",
     "output_type": "stream",
     "text": [
      "Running on local URL:  http://127.0.0.1:7860\n",
      "\n",
      "To create a public link, set `share=True` in `launch()`.\n"
     ]
    },
    {
     "data": {
      "text/html": [
       "<div><iframe src=\"http://127.0.0.1:7860/\" width=\"100%\" height=\"500\" allow=\"autoplay; camera; microphone; clipboard-read; clipboard-write;\" frameborder=\"0\" allowfullscreen></iframe></div>"
      ],
      "text/plain": [
       "<IPython.core.display.HTML object>"
      ]
     },
     "metadata": {},
     "output_type": "display_data"
    },
    {
     "data": {
      "text/plain": []
     },
     "execution_count": 8,
     "metadata": {},
     "output_type": "execute_result"
    }
   ],
   "source": [
    "interface.launch()"
   ]
  },
  {
   "cell_type": "code",
   "execution_count": 9,
   "id": "26f88917",
   "metadata": {},
   "outputs": [
    {
     "name": "stdout",
     "output_type": "stream",
     "text": [
      "Requirement already satisfied: torch in c:\\users\\uaepe\\appdata\\local\\programs\\python\\python311\\lib\\site-packages (2.0.1)\n",
      "Requirement already satisfied: torchvision in c:\\users\\uaepe\\appdata\\local\\programs\\python\\python311\\lib\\site-packages (0.15.2)\n",
      "Requirement already satisfied: torchaudio in c:\\users\\uaepe\\appdata\\local\\programs\\python\\python311\\lib\\site-packages (2.0.2)\n",
      "Requirement already satisfied: filelock in c:\\users\\uaepe\\appdata\\local\\programs\\python\\python311\\lib\\site-packages (from torch) (3.12.4)\n",
      "Requirement already satisfied: typing-extensions in c:\\users\\uaepe\\appdata\\local\\programs\\python\\python311\\lib\\site-packages (from torch) (4.8.0)\n",
      "Requirement already satisfied: sympy in c:\\users\\uaepe\\appdata\\local\\programs\\python\\python311\\lib\\site-packages (from torch) (1.12)\n",
      "Requirement already satisfied: networkx in c:\\users\\uaepe\\appdata\\local\\programs\\python\\python311\\lib\\site-packages (from torch) (3.1)\n",
      "Requirement already satisfied: jinja2 in c:\\users\\uaepe\\appdata\\local\\programs\\python\\python311\\lib\\site-packages (from torch) (3.1.2)\n",
      "Requirement already satisfied: numpy in c:\\users\\uaepe\\appdata\\local\\programs\\python\\python311\\lib\\site-packages (from torchvision) (1.26.0)\n",
      "Requirement already satisfied: requests in c:\\users\\uaepe\\appdata\\local\\programs\\python\\python311\\lib\\site-packages (from torchvision) (2.31.0)\n",
      "Requirement already satisfied: pillow!=8.3.*,>=5.3.0 in c:\\users\\uaepe\\appdata\\local\\programs\\python\\python311\\lib\\site-packages (from torchvision) (10.0.1)\n",
      "Requirement already satisfied: MarkupSafe>=2.0 in c:\\users\\uaepe\\appdata\\local\\programs\\python\\python311\\lib\\site-packages (from jinja2->torch) (2.1.3)\n",
      "Requirement already satisfied: charset-normalizer<4,>=2 in c:\\users\\uaepe\\appdata\\local\\programs\\python\\python311\\lib\\site-packages (from requests->torchvision) (3.3.0)\n",
      "Requirement already satisfied: idna<4,>=2.5 in c:\\users\\uaepe\\appdata\\local\\programs\\python\\python311\\lib\\site-packages (from requests->torchvision) (3.4)\n",
      "Requirement already satisfied: urllib3<3,>=1.21.1 in c:\\users\\uaepe\\appdata\\local\\programs\\python\\python311\\lib\\site-packages (from requests->torchvision) (2.0.5)\n",
      "Requirement already satisfied: certifi>=2017.4.17 in c:\\users\\uaepe\\appdata\\local\\programs\\python\\python311\\lib\\site-packages (from requests->torchvision) (2023.7.22)\n",
      "Requirement already satisfied: mpmath>=0.19 in c:\\users\\uaepe\\appdata\\local\\programs\\python\\python311\\lib\\site-packages (from sympy->torch) (1.3.0)\n",
      "Requirement already satisfied: easyocr in c:\\users\\uaepe\\appdata\\local\\programs\\python\\python311\\lib\\site-packages (1.7.1)\n",
      "Requirement already satisfied: torch in c:\\users\\uaepe\\appdata\\local\\programs\\python\\python311\\lib\\site-packages (from easyocr) (2.0.1)\n",
      "Requirement already satisfied: torchvision>=0.5 in c:\\users\\uaepe\\appdata\\local\\programs\\python\\python311\\lib\\site-packages (from easyocr) (0.15.2)\n",
      "Requirement already satisfied: opencv-python-headless in c:\\users\\uaepe\\appdata\\local\\programs\\python\\python311\\lib\\site-packages (from easyocr) (4.8.1.78)\n",
      "Requirement already satisfied: scipy in c:\\users\\uaepe\\appdata\\local\\programs\\python\\python311\\lib\\site-packages (from easyocr) (1.11.3)\n",
      "Requirement already satisfied: numpy in c:\\users\\uaepe\\appdata\\local\\programs\\python\\python311\\lib\\site-packages (from easyocr) (1.26.0)\n",
      "Requirement already satisfied: Pillow in c:\\users\\uaepe\\appdata\\local\\programs\\python\\python311\\lib\\site-packages (from easyocr) (10.0.1)\n",
      "Requirement already satisfied: scikit-image in c:\\users\\uaepe\\appdata\\local\\programs\\python\\python311\\lib\\site-packages (from easyocr) (0.21.0)\n",
      "Requirement already satisfied: python-bidi in c:\\users\\uaepe\\appdata\\local\\programs\\python\\python311\\lib\\site-packages (from easyocr) (0.4.2)\n",
      "Requirement already satisfied: PyYAML in c:\\users\\uaepe\\appdata\\local\\programs\\python\\python311\\lib\\site-packages (from easyocr) (6.0.1)\n",
      "Requirement already satisfied: Shapely in c:\\users\\uaepe\\appdata\\local\\programs\\python\\python311\\lib\\site-packages (from easyocr) (2.0.1)\n",
      "Requirement already satisfied: pyclipper in c:\\users\\uaepe\\appdata\\local\\programs\\python\\python311\\lib\\site-packages (from easyocr) (1.3.0.post5)\n",
      "Requirement already satisfied: ninja in c:\\users\\uaepe\\appdata\\local\\programs\\python\\python311\\lib\\site-packages (from easyocr) (1.11.1)\n",
      "Requirement already satisfied: requests in c:\\users\\uaepe\\appdata\\local\\programs\\python\\python311\\lib\\site-packages (from torchvision>=0.5->easyocr) (2.31.0)\n",
      "Requirement already satisfied: filelock in c:\\users\\uaepe\\appdata\\local\\programs\\python\\python311\\lib\\site-packages (from torch->easyocr) (3.12.4)\n",
      "Requirement already satisfied: typing-extensions in c:\\users\\uaepe\\appdata\\local\\programs\\python\\python311\\lib\\site-packages (from torch->easyocr) (4.8.0)\n",
      "Requirement already satisfied: sympy in c:\\users\\uaepe\\appdata\\local\\programs\\python\\python311\\lib\\site-packages (from torch->easyocr) (1.12)\n",
      "Requirement already satisfied: networkx in c:\\users\\uaepe\\appdata\\local\\programs\\python\\python311\\lib\\site-packages (from torch->easyocr) (3.1)\n",
      "Requirement already satisfied: jinja2 in c:\\users\\uaepe\\appdata\\local\\programs\\python\\python311\\lib\\site-packages (from torch->easyocr) (3.1.2)\n",
      "Requirement already satisfied: six in c:\\users\\uaepe\\appdata\\local\\programs\\python\\python311\\lib\\site-packages (from python-bidi->easyocr) (1.16.0)\n",
      "Requirement already satisfied: imageio>=2.27 in c:\\users\\uaepe\\appdata\\local\\programs\\python\\python311\\lib\\site-packages (from scikit-image->easyocr) (2.31.5)\n",
      "Requirement already satisfied: tifffile>=2022.8.12 in c:\\users\\uaepe\\appdata\\local\\programs\\python\\python311\\lib\\site-packages (from scikit-image->easyocr) (2023.9.26)\n",
      "Requirement already satisfied: PyWavelets>=1.1.1 in c:\\users\\uaepe\\appdata\\local\\programs\\python\\python311\\lib\\site-packages (from scikit-image->easyocr) (1.4.1)\n",
      "Requirement already satisfied: packaging>=21 in c:\\users\\uaepe\\appdata\\local\\programs\\python\\python311\\lib\\site-packages (from scikit-image->easyocr) (23.2)\n",
      "Requirement already satisfied: lazy_loader>=0.2 in c:\\users\\uaepe\\appdata\\local\\programs\\python\\python311\\lib\\site-packages (from scikit-image->easyocr) (0.3)\n",
      "Requirement already satisfied: MarkupSafe>=2.0 in c:\\users\\uaepe\\appdata\\local\\programs\\python\\python311\\lib\\site-packages (from jinja2->torch->easyocr) (2.1.3)\n",
      "Requirement already satisfied: charset-normalizer<4,>=2 in c:\\users\\uaepe\\appdata\\local\\programs\\python\\python311\\lib\\site-packages (from requests->torchvision>=0.5->easyocr) (3.3.0)\n",
      "Requirement already satisfied: idna<4,>=2.5 in c:\\users\\uaepe\\appdata\\local\\programs\\python\\python311\\lib\\site-packages (from requests->torchvision>=0.5->easyocr) (3.4)\n",
      "Requirement already satisfied: urllib3<3,>=1.21.1 in c:\\users\\uaepe\\appdata\\local\\programs\\python\\python311\\lib\\site-packages (from requests->torchvision>=0.5->easyocr) (2.0.5)\n",
      "Requirement already satisfied: certifi>=2017.4.17 in c:\\users\\uaepe\\appdata\\local\\programs\\python\\python311\\lib\\site-packages (from requests->torchvision>=0.5->easyocr) (2023.7.22)\n",
      "Requirement already satisfied: mpmath>=0.19 in c:\\users\\uaepe\\appdata\\local\\programs\\python\\python311\\lib\\site-packages (from sympy->torch->easyocr) (1.3.0)\n"
     ]
    },
    {
     "name": "stderr",
     "output_type": "stream",
     "text": [
      "Neither CUDA nor MPS are available - defaulting to CPU. Note: This module is much faster with a GPU.\n"
     ]
    },
    {
     "data": {
      "text/plain": [
       "<Figure size 1000x1000 with 1 Axes>"
      ]
     },
     "metadata": {},
     "output_type": "display_data"
    }
   ],
   "source": [
    "!pip install torch torchvision torchaudio\n",
    "!pip install easyocr\n",
    "\n",
    "import easyocr as ea\n",
    "import cv2\n",
    "from matplotlib import pyplot as plt\n",
    "\n",
    "def is_hindi_text(text):\n",
    "    # Define the Unicode range for Hindi characters (Devanagari script)\n",
    "    hindi_script_range = range(0x0900, 0x097F + 1)\n",
    "    return all(ord(char) in hindi_script_range for char in text)\n",
    "\n",
    "IMAGE_PATH = 'ur2.jpg'\n",
    "reader = ea.Reader(['hi'])\n",
    "result = reader.readtext(IMAGE_PATH)\n",
    "\n",
    "output_array = []\n",
    "for item in result:\n",
    "    text_to_print = item[1]\n",
    "    if is_hindi_text(text_to_print):\n",
    "        output_array.append(text_to_print)\n",
    "\n",
    "res = ','.join(str(v) for v in output_array)\n",
    "with open(\"output.txt\", \"a\", encoding=\"utf-8\") as f:\n",
    "    print(res, file=f)\n",
    "\n",
    "img = cv2.imread(IMAGE_PATH)\n",
    "for detection in result:\n",
    "    text = detection[1]\n",
    "    if is_hindi_text(text):\n",
    "        top_left = tuple([int(val) for val in detection[0][0]])\n",
    "        bottom_right = tuple([int(val) for val in detection[0][2]])\n",
    "        font = cv2.FONT_HERSHEY_SIMPLEX\n",
    "        font = cv2.rectangle(img, top_left, bottom_right, (0, 255, 0), 5)\n",
    "\n",
    "plt.figure(figsize=(10, 10))\n",
    "plt.imshow(img)\n",
    "plt.show()"
   ]
  },
  {
   "cell_type": "code",
   "execution_count": null,
   "id": "f8af7a0f-854e-496e-8cab-02743d1dc6e0",
   "metadata": {},
   "outputs": [],
   "source": []
  },
  {
   "cell_type": "code",
   "execution_count": null,
   "id": "0ea229bb-87da-438b-a027-26287fb175b6",
   "metadata": {},
   "outputs": [],
   "source": []
  }
 ],
 "metadata": {
  "kernelspec": {
   "display_name": "Python 3 (ipykernel)",
   "language": "python",
   "name": "python3"
  },
  "language_info": {
   "codemirror_mode": {
    "name": "ipython",
    "version": 3
   },
   "file_extension": ".py",
   "mimetype": "text/x-python",
   "name": "python",
   "nbconvert_exporter": "python",
   "pygments_lexer": "ipython3",
   "version": "3.11.5"
  }
 },
 "nbformat": 4,
 "nbformat_minor": 5
}
